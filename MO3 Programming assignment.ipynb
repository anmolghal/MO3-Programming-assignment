{
 "cells": [
  {
   "cell_type": "code",
   "execution_count": null,
   "id": "ada2da1f-6ae5-4c6b-a046-1c628f28040f",
   "metadata": {},
   "outputs": [],
   "source": [
    "# 7.4\n",
    "things = [\"mozzarella\", \"cinderella\", \"salmonella\"]\n",
    "\n",
    "# 7.5\n",
    "things[1] = things[1].capitalize()\n",
    "print(things)  # ['mozzarella', 'Cinderella', 'salmonella']\n",
    "\n",
    "# 7.6\n",
    "things[0] = things[0].upper()\n",
    "print(things)  # ['MOZZARELLA', 'Cinderella', 'salmonella']\n",
    "\n",
    "# 7.7\n",
    "del things[2]\n",
    "print(things)  # ['MOZZARELLA', 'Cinderella']\n",
    "\n",
    "# 9.1 \n",
    "def good():\n",
    "    return ['Harry', 'Ron', 'Hermione']\n",
    "\n",
    "# Test the function\n",
    "print(good())  # Output: ['Harry', 'Ron', 'Hermione']\n",
    "\n",
    "#9.2\n",
    "def get_odds():\n",
    "    for number in range(1, 10, 2):\n",
    "        yield number\n",
    "\n",
    "# Test the generator function and find the third value returned\n",
    "odds = get_odds()\n",
    "count = 0\n",
    "third_value = None\n",
    "\n",
    "for number in odds:\n",
    "    count += 1\n",
    "    if count == 3:\n",
    "        third_value = number\n",
    "        break\n",
    "\n",
    "print(third_value)  # Output: 5\n",
    "\n"
   ]
  }
 ],
 "metadata": {
  "kernelspec": {
   "display_name": "Python 3 (ipykernel)",
   "language": "python",
   "name": "python3"
  },
  "language_info": {
   "codemirror_mode": {
    "name": "ipython",
    "version": 3
   },
   "file_extension": ".py",
   "mimetype": "text/x-python",
   "name": "python",
   "nbconvert_exporter": "python",
   "pygments_lexer": "ipython3",
   "version": "3.11.7"
  }
 },
 "nbformat": 4,
 "nbformat_minor": 5
}
